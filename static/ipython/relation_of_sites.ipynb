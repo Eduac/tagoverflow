{
 "metadata": {
  "name": ""
 },
 "nbformat": 3,
 "nbformat_minor": 0,
 "worksheets": [
  {
   "cells": [
    {
     "cell_type": "code",
     "collapsed": false,
     "input": [
      "import simplejson as json\n",
      "import networkx as nx\n",
      "import community"
     ],
     "language": "python",
     "metadata": {},
     "outputs": [],
     "prompt_number": 11
    },
    {
     "cell_type": "code",
     "collapsed": false,
     "input": [
      "users_noso = json.load(open(\"../data_raw/se_users_rep200_noso_20131105.json\"))"
     ],
     "language": "python",
     "metadata": {},
     "outputs": [],
     "prompt_number": 2
    },
    {
     "cell_type": "code",
     "collapsed": false,
     "input": [
      "bundle1dict = {}\n",
      "wrongs = []\n",
      "for k, v in users_noso.items():\n",
      "    for el in v:\n",
      "        try:\n",
      "            try:\n",
      "                bundle1dict[el['account_id']] += [k]\n",
      "            except:\n",
      "                bundle1dict[el['account_id']] = [k]\n",
      "        except:\n",
      "            wrongs.append([k, v])"
     ],
     "language": "python",
     "metadata": {},
     "outputs": [],
     "prompt_number": 3
    },
    {
     "cell_type": "code",
     "collapsed": false,
     "input": [
      "len(bundle1dict)"
     ],
     "language": "python",
     "metadata": {},
     "outputs": [
      {
       "metadata": {},
       "output_type": "pyout",
       "prompt_number": 4,
       "text": [
        "50606"
       ]
      }
     ],
     "prompt_number": 4
    },
    {
     "cell_type": "code",
     "collapsed": false,
     "input": [
      "bundle1dict.values()[-10:]"
     ],
     "language": "python",
     "metadata": {},
     "outputs": [
      {
       "metadata": {},
       "output_type": "pyout",
       "prompt_number": 9,
       "text": [
        "[['superuser', 'unix'],\n",
        " ['rpg'],\n",
        " ['rpg'],\n",
        " ['apple'],\n",
        " ['sharepoint'],\n",
        " ['bicycles'],\n",
        " ['rpg'],\n",
        " ['rpg'],\n",
        " ['english'],\n",
        " ['academia']]"
       ]
      }
     ],
     "prompt_number": 9
    },
    {
     "cell_type": "code",
     "collapsed": false,
     "input": [
      "nx"
     ],
     "language": "python",
     "metadata": {},
     "outputs": []
    }
   ],
   "metadata": {}
  }
 ]
}